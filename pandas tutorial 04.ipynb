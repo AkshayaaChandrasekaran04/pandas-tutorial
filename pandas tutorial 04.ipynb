{
 "cells": [
  {
   "cell_type": "markdown",
   "metadata": {},
   "source": [
    "# Week 4: Grouping & Sorting\n",
    "\n",
    "In last week's tutorial, we learned how to apply functions to a series within a dataframe. However, sometimes we might only want to consider a particular subset or group of a specific column. This is where grouping and sorting comes in. \n",
    "\n",
    "Segmentation is a really powerful way to extract insights about a particular group within our dataset e.g. customer age groups, geographic location, types of products etc. It allows us to break down a big piece of data into smaller, more manageable components. That way we can more easily analyse and identify the key features and patterns about that particular segment.\n",
    "\n",
    "In this week's tutorial, we are going to look at some of the techniques that you can use to group and sort your data that will take your data analysis to the next level."
   ]
  },
  {
   "cell_type": "markdown",
   "metadata": {},
   "source": [
    "## Import pandas "
   ]
  },
  {
   "cell_type": "code",
   "execution_count": 2,
   "metadata": {},
   "outputs": [],
   "source": [
    "import pandas as pd"
   ]
  },
  {
   "cell_type": "markdown",
   "metadata": {},
   "source": [
    "## Import data"
   ]
  }
 ],
 "metadata": {
  "kernelspec": {
   "display_name": "Python 3",
   "language": "python",
   "name": "python3"
  },
  "language_info": {
   "codemirror_mode": {
    "name": "ipython",
    "version": 3
   },
   "file_extension": ".py",
   "mimetype": "text/x-python",
   "name": "python",
   "nbconvert_exporter": "python",
   "pygments_lexer": "ipython3",
   "version": "3.7.6"
  }
 },
 "nbformat": 4,
 "nbformat_minor": 4
}
